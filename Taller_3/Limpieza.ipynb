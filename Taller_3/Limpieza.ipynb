{
 "cells": [
  {
   "cell_type": "code",
   "execution_count": 1,
   "id": "7cca4d47",
   "metadata": {},
   "outputs": [],
   "source": [
    "import pandas as pd"
   ]
  },
  {
   "cell_type": "code",
   "execution_count": 2,
   "id": "908c365b",
   "metadata": {},
   "outputs": [],
   "source": [
    "df = pd.read_csv(\"TableF18-2.csv\")\n",
    "df[\"Modo_Viaje\"] = [\"Avión\", \"Tren\", \"Bus\", \"Carro\"] * (len(df) // 4)\n",
    "df = df[df[\"MODE\"] == 1]"
   ]
  },
  {
   "cell_type": "code",
   "execution_count": 3,
   "id": "14c3759f",
   "metadata": {},
   "outputs": [],
   "source": [
    "cols_rename = {\n",
    "    \"TTME\": \"Tiempo_Espera\",\n",
    "    \"INVC\": \"Costo_Viaje\",\n",
    "    \"INVT\": \"Tiempo_Viaje\",\n",
    "    \"GC\": \"Costo_Generalizado\",\n",
    "    \"HINC\": \"Ingresos_Hogar\",\n",
    "    \"PSIZE \": \"Tamano_Grupo\"\n",
    "}\n",
    "df = df.rename(columns=cols_rename)\n",
    "df = df[[\"Modo_Viaje\", \"Tiempo_Espera\", \"Costo_Viaje\", \"Tiempo_Viaje\", \"Costo_Generalizado\", \"Ingresos_Hogar\", \"Tamano_Grupo\"]]"
   ]
  },
  {
   "cell_type": "code",
   "execution_count": 4,
   "id": "8244885c",
   "metadata": {},
   "outputs": [
    {
     "data": {
      "application/vnd.microsoft.datawrangler.viewer.v0+json": {
       "columns": [
        {
         "name": "Tamano_Grupo",
         "rawType": "int64",
         "type": "integer"
        },
        {
         "name": "count",
         "rawType": "int64",
         "type": "integer"
        }
       ],
       "ref": "837704ca-eef7-4045-a6f6-814337f34b24",
       "rows": [
        [
         "1",
         "114"
        ],
        [
         "2",
         "58"
        ],
        [
         "3",
         "20"
        ],
        [
         "4",
         "15"
        ],
        [
         "5",
         "2"
        ],
        [
         "6",
         "1"
        ]
       ],
       "shape": {
        "columns": 1,
        "rows": 6
       }
      },
      "text/plain": [
       "Tamano_Grupo\n",
       "1    114\n",
       "2     58\n",
       "3     20\n",
       "4     15\n",
       "5      2\n",
       "6      1\n",
       "Name: count, dtype: int64"
      ]
     },
     "execution_count": 4,
     "metadata": {},
     "output_type": "execute_result"
    }
   ],
   "source": [
    "df[\"Tamano_Grupo\"].value_counts()"
   ]
  },
  {
   "cell_type": "code",
   "execution_count": 20,
   "id": "8be439b6",
   "metadata": {},
   "outputs": [],
   "source": [
    "df.to_csv(\"modos_viaje.csv\", index=False)"
   ]
  }
 ],
 "metadata": {
  "kernelspec": {
   "display_name": "main",
   "language": "python",
   "name": "python3"
  },
  "language_info": {
   "codemirror_mode": {
    "name": "ipython",
    "version": 3
   },
   "file_extension": ".py",
   "mimetype": "text/x-python",
   "name": "python",
   "nbconvert_exporter": "python",
   "pygments_lexer": "ipython3",
   "version": "3.10.18"
  }
 },
 "nbformat": 4,
 "nbformat_minor": 5
}
